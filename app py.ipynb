{
 "cells": [
  {
   "cell_type": "code",
   "execution_count": 16,
   "id": "61f88cb6-22cb-4da5-a03b-6a3d523e49a3",
   "metadata": {},
   "outputs": [
    {
     "name": "stdout",
     "output_type": "stream",
     "text": [
      "Requirement already satisfied: textblob in c:\\users\\dhara\\anaconda3\\lib\\site-packages (0.19.0)\n",
      "Requirement already satisfied: nltk>=3.9 in c:\\users\\dhara\\anaconda3\\lib\\site-packages (from textblob) (3.9.1)\n",
      "Requirement already satisfied: click in c:\\users\\dhara\\anaconda3\\lib\\site-packages (from nltk>=3.9->textblob) (8.1.7)\n",
      "Requirement already satisfied: joblib in c:\\users\\dhara\\anaconda3\\lib\\site-packages (from nltk>=3.9->textblob) (1.2.0)\n",
      "Requirement already satisfied: regex>=2021.8.3 in c:\\users\\dhara\\anaconda3\\lib\\site-packages (from nltk>=3.9->textblob) (2023.10.3)\n",
      "Requirement already satisfied: tqdm in c:\\users\\dhara\\anaconda3\\lib\\site-packages (from nltk>=3.9->textblob) (4.65.0)\n",
      "Requirement already satisfied: colorama in c:\\users\\dhara\\anaconda3\\lib\\site-packages (from click->nltk>=3.9->textblob) (0.4.6)\n",
      "Collecting langdetect\n",
      "  Downloading langdetect-1.0.9.tar.gz (981 kB)\n",
      "     ---------------------------------------- 0.0/981.5 kB ? eta -:--:--\n",
      "     ---------------------------------------- 10.2/981.5 kB ? eta -:--:--\n",
      "     ---------------------------------------- 10.2/981.5 kB ? eta -:--:--\n",
      "     - ----------------------------------- 30.7/981.5 kB 220.2 kB/s eta 0:00:05\n",
      "     - ----------------------------------- 41.0/981.5 kB 245.8 kB/s eta 0:00:04\n",
      "     -- ---------------------------------- 71.7/981.5 kB 302.7 kB/s eta 0:00:04\n",
      "     --- -------------------------------- 102.4/981.5 kB 422.8 kB/s eta 0:00:03\n",
      "     ------- ---------------------------- 204.8/981.5 kB 657.3 kB/s eta 0:00:02\n",
      "     ---------- ------------------------- 286.7/981.5 kB 842.9 kB/s eta 0:00:01\n",
      "     ----------- ------------------------ 317.4/981.5 kB 787.7 kB/s eta 0:00:01\n",
      "     ---------------- --------------------- 419.8/981.5 kB 1.0 MB/s eta 0:00:01\n",
      "     ---------------- --------------------- 419.8/981.5 kB 1.0 MB/s eta 0:00:01\n",
      "     --------------------- ---------------- 553.0/981.5 kB 1.0 MB/s eta 0:00:01\n",
      "     ------------------------ ------------- 634.9/981.5 kB 1.1 MB/s eta 0:00:01\n",
      "     ------------------------------ ------- 778.2/981.5 kB 1.2 MB/s eta 0:00:01\n",
      "     ------------------------------- ------ 819.2/981.5 kB 1.3 MB/s eta 0:00:01\n",
      "     -------------------------------- ----- 829.4/981.5 kB 1.1 MB/s eta 0:00:01\n",
      "     -------------------------------------  972.8/981.5 kB 1.3 MB/s eta 0:00:01\n",
      "     -------------------------------------  972.8/981.5 kB 1.3 MB/s eta 0:00:01\n",
      "     -------------------------------------- 981.5/981.5 kB 1.2 MB/s eta 0:00:00\n",
      "  Preparing metadata (setup.py): started\n",
      "  Preparing metadata (setup.py): finished with status 'done'\n",
      "Requirement already satisfied: six in c:\\users\\dhara\\anaconda3\\lib\\site-packages (from langdetect) (1.16.0)\n",
      "Building wheels for collected packages: langdetect\n",
      "  Building wheel for langdetect (setup.py): started\n",
      "  Building wheel for langdetect (setup.py): finished with status 'done'\n",
      "  Created wheel for langdetect: filename=langdetect-1.0.9-py3-none-any.whl size=993253 sha256=83437ecc4e1537cb9edddf519cce0e9910b1b9e4a72e26058a076c090d2e450f\n",
      "  Stored in directory: c:\\users\\dhara\\appdata\\local\\pip\\cache\\wheels\\0a\\f2\\b2\\e5ca405801e05eb7c8ed5b3b4bcf1fcabcd6272c167640072e\n",
      "Successfully built langdetect\n",
      "Installing collected packages: langdetect\n",
      "Successfully installed langdetect-1.0.9\n"
     ]
    }
   ],
   "source": [
    "!pip install textblob\n",
    "!pip install langdetect\n",
    "\n",
    "\n",
    "\n",
    "\n"
   ]
  },
  {
   "cell_type": "code",
   "execution_count": 12,
   "id": "27418b28-9674-4447-bb14-3cd9135688a7",
   "metadata": {},
   "outputs": [
    {
     "name": "stdout",
     "output_type": "stream",
     "text": [
      "Finished.\n"
     ]
    },
    {
     "name": "stderr",
     "output_type": "stream",
     "text": [
      "[nltk_data] Downloading package brown to\n",
      "[nltk_data]     C:\\Users\\dhara\\AppData\\Roaming\\nltk_data...\n",
      "[nltk_data]   Unzipping corpora\\brown.zip.\n",
      "[nltk_data] Downloading package punkt_tab to\n",
      "[nltk_data]     C:\\Users\\dhara\\AppData\\Roaming\\nltk_data...\n",
      "[nltk_data]   Unzipping tokenizers\\punkt_tab.zip.\n",
      "[nltk_data] Downloading package wordnet to\n",
      "[nltk_data]     C:\\Users\\dhara\\AppData\\Roaming\\nltk_data...\n",
      "[nltk_data] Downloading package averaged_perceptron_tagger_eng to\n",
      "[nltk_data]     C:\\Users\\dhara\\AppData\\Roaming\\nltk_data...\n",
      "[nltk_data]   Unzipping taggers\\averaged_perceptron_tagger_eng.zip.\n",
      "[nltk_data] Downloading package conll2000 to\n",
      "[nltk_data]     C:\\Users\\dhara\\AppData\\Roaming\\nltk_data...\n",
      "[nltk_data]   Unzipping corpora\\conll2000.zip.\n",
      "[nltk_data] Downloading package movie_reviews to\n",
      "[nltk_data]     C:\\Users\\dhara\\AppData\\Roaming\\nltk_data...\n",
      "[nltk_data]   Unzipping corpora\\movie_reviews.zip.\n"
     ]
    }
   ],
   "source": [
    "!python -m textblob.download_corpora\n"
   ]
  },
  {
   "cell_type": "code",
   "execution_count": 20,
   "id": "698da452-a451-41ba-85bb-6a77b0155831",
   "metadata": {},
   "outputs": [
    {
     "name": "stderr",
     "output_type": "stream",
     "text": [
      "2025-07-01 09:43:43.876 WARNING streamlit.runtime.scriptrunner_utils.script_run_context: Thread 'MainThread': missing ScriptRunContext! This warning can be ignored when running in bare mode.\n",
      "2025-07-01 09:43:43.878 WARNING streamlit.runtime.scriptrunner_utils.script_run_context: Thread 'MainThread': missing ScriptRunContext! This warning can be ignored when running in bare mode.\n",
      "2025-07-01 09:43:44.286 \n",
      "  \u001b[33m\u001b[1mWarning:\u001b[0m to view this Streamlit app on a browser, run it with the following\n",
      "  command:\n",
      "\n",
      "    streamlit run C:\\Users\\dhara\\anaconda3\\Lib\\site-packages\\ipykernel_launcher.py [ARGUMENTS]\n",
      "2025-07-01 09:43:44.288 Thread 'MainThread': missing ScriptRunContext! This warning can be ignored when running in bare mode.\n",
      "2025-07-01 09:43:44.289 Thread 'MainThread': missing ScriptRunContext! This warning can be ignored when running in bare mode.\n",
      "2025-07-01 09:43:44.291 Thread 'MainThread': missing ScriptRunContext! This warning can be ignored when running in bare mode.\n",
      "2025-07-01 09:43:44.293 Thread 'MainThread': missing ScriptRunContext! This warning can be ignored when running in bare mode.\n",
      "2025-07-01 09:43:44.295 Thread 'MainThread': missing ScriptRunContext! This warning can be ignored when running in bare mode.\n",
      "2025-07-01 09:43:44.297 Thread 'MainThread': missing ScriptRunContext! This warning can be ignored when running in bare mode.\n",
      "2025-07-01 09:43:44.299 Thread 'MainThread': missing ScriptRunContext! This warning can be ignored when running in bare mode.\n",
      "2025-07-01 09:43:44.301 Thread 'MainThread': missing ScriptRunContext! This warning can be ignored when running in bare mode.\n",
      "2025-07-01 09:43:44.303 Thread 'MainThread': missing ScriptRunContext! This warning can be ignored when running in bare mode.\n",
      "2025-07-01 09:43:44.306 Session state does not function when running a script without `streamlit run`\n",
      "2025-07-01 09:43:44.307 Thread 'MainThread': missing ScriptRunContext! This warning can be ignored when running in bare mode.\n",
      "2025-07-01 09:43:44.309 Thread 'MainThread': missing ScriptRunContext! This warning can be ignored when running in bare mode.\n",
      "2025-07-01 09:43:44.310 Thread 'MainThread': missing ScriptRunContext! This warning can be ignored when running in bare mode.\n",
      "2025-07-01 09:43:44.312 Thread 'MainThread': missing ScriptRunContext! This warning can be ignored when running in bare mode.\n",
      "2025-07-01 09:43:44.314 Thread 'MainThread': missing ScriptRunContext! This warning can be ignored when running in bare mode.\n",
      "2025-07-01 09:43:44.316 Thread 'MainThread': missing ScriptRunContext! This warning can be ignored when running in bare mode.\n",
      "2025-07-01 09:43:44.317 Thread 'MainThread': missing ScriptRunContext! This warning can be ignored when running in bare mode.\n",
      "2025-07-01 09:43:44.319 Thread 'MainThread': missing ScriptRunContext! This warning can be ignored when running in bare mode.\n",
      "2025-07-01 09:43:44.320 Thread 'MainThread': missing ScriptRunContext! This warning can be ignored when running in bare mode.\n",
      "2025-07-01 09:43:44.320 Thread 'MainThread': missing ScriptRunContext! This warning can be ignored when running in bare mode.\n",
      "2025-07-01 09:43:44.322 Thread 'MainThread': missing ScriptRunContext! This warning can be ignored when running in bare mode.\n",
      "2025-07-01 09:43:44.323 Thread 'MainThread': missing ScriptRunContext! This warning can be ignored when running in bare mode.\n",
      "2025-07-01 09:43:44.325 Thread 'MainThread': missing ScriptRunContext! This warning can be ignored when running in bare mode.\n",
      "2025-07-01 09:43:44.327 Thread 'MainThread': missing ScriptRunContext! This warning can be ignored when running in bare mode.\n"
     ]
    }
   ],
   "source": [
    "import difflib\n",
    "import time\n",
    "import streamlit as st\n",
    "from textblob import TextBlob\n",
    "\n",
    "def correct_text(text: str, confidence_threshold: float = 0.9) -> str:\n",
    "    \"\"\"Corrects spelling in text using TextBlob with selective confidence.\"\"\"\n",
    "    blob = TextBlob(text)\n",
    "    corrected_words = []\n",
    "\n",
    "    for word in blob.words:\n",
    "        corrected = str(TextBlob(word).correct())\n",
    "        confidence = difflib.SequenceMatcher(None, word, corrected).ratio()\n",
    "        if confidence < confidence_threshold:\n",
    "            corrected_words.append(corrected)\n",
    "        else:\n",
    "            corrected_words.append(word)\n",
    "    \n",
    "    return ' '.join(corrected_words)\n",
    "\n",
    "def highlight_differences(original, corrected):\n",
    "    \"\"\"Highlight differences between original and corrected texts.\"\"\"\n",
    "    diff = difflib.ndiff(original.split(), corrected.split())\n",
    "    output = []\n",
    "    for d in diff:\n",
    "        if d.startswith(\"- \"):\n",
    "            output.append(f\"~~{d[2:]}~~\")\n",
    "        elif d.startswith(\"+ \"):\n",
    "            output.append(f\"**{d[2:]}**\")\n",
    "        else:\n",
    "            output.append(d[2:])\n",
    "    return ' '.join(output)\n",
    "\n",
    "# ========== STREAMLIT APP UI ==========\n",
    "st.set_page_config(page_title=\"Spelling Correction with TextBlob\", layout=\"wide\")\n",
    "\n",
    "st.title(\"🔍 Advanced Spelling Correction App\")\n",
    "st.markdown(\"Paste a paragraph below to automatically fix spelling errors using **TextBlob**.\")\n",
    "\n",
    "with st.form(\"correction_form\"):\n",
    "    default_text = \"\"\"\n",
    "    In todays fast-paced word, teh ability to comunicate efectively is more impportant then ever befor.\n",
    "    Peaple offten strugle with spelling and grammer issues, which can led to misundrstanding and even lost oppurtunities.\n",
    "    A simpel mistake in an email or reesume may creat a bad impretion on the reader.\n",
    "    Their are many tools avialable to help with this, but not all of them are relible or easy-to-use.\n",
    "    TextBlob is one such python libray that allows us too implement spell cheking, corecting misstakes automaticaly with a fairley good acuracy.\n",
    "    \"\"\"\n",
    "    input_text = st.text_area(\"✍️ Enter your text:\", value=default_text, height=300)\n",
    "    threshold = st.slider(\"🔧 Confidence Threshold\", 0.0, 1.0, 0.9, 0.01)\n",
    "    submitted = st.form_submit_button(\"Correct Spelling\")\n",
    "\n",
    "if submitted and input_text.strip():\n",
    "    start = time.time()\n",
    "    corrected = correct_text(input_text, threshold)\n",
    "    elapsed = time.time() - start\n",
    "\n",
    "    st.success(f\"✅ Spelling correction completed in {elapsed:.2f} seconds!\")\n",
    "\n",
    "    st.subheader(\"📄 Corrected Text\")\n",
    "    st.text_area(\"Output:\", corrected, height=250)\n",
    "\n",
    "    st.subheader(\"🪄 Difference (highlighted)\")\n",
    "    diff = highlight_differences(input_text, corrected)\n",
    "    st.markdown(diff)\n",
    "\n",
    "    st.download_button(\"📥 Download Corrected Text\", corrected, file_name=\"corrected_text.txt\")\n",
    "\n",
    "else:\n",
    "    st.info(\"📝 Enter some text and click 'Correct Spelling' to see results.\")\n",
    "\n"
   ]
  },
  {
   "cell_type": "code",
   "execution_count": 22,
   "id": "f22d5777-cfea-4a20-95fc-cfb43d34bcd2",
   "metadata": {},
   "outputs": [
    {
     "ename": "SyntaxError",
     "evalue": "invalid syntax (507122745.py, line 1)",
     "output_type": "error",
     "traceback": [
      "\u001b[1;36m  Cell \u001b[1;32mIn[22], line 1\u001b[1;36m\u001b[0m\n\u001b[1;33m    streamlit run app.py\u001b[0m\n\u001b[1;37m              ^\u001b[0m\n\u001b[1;31mSyntaxError\u001b[0m\u001b[1;31m:\u001b[0m invalid syntax\n"
     ]
    }
   ],
   "source": [
    "streamlit run app.py\n"
   ]
  },
  {
   "cell_type": "code",
   "execution_count": null,
   "id": "0f2920f3-5d69-4d91-847e-cd7573d471d6",
   "metadata": {},
   "outputs": [],
   "source": []
  }
 ],
 "metadata": {
  "kernelspec": {
   "display_name": "Python 3 (ipykernel)",
   "language": "python",
   "name": "python3"
  },
  "language_info": {
   "codemirror_mode": {
    "name": "ipython",
    "version": 3
   },
   "file_extension": ".py",
   "mimetype": "text/x-python",
   "name": "python",
   "nbconvert_exporter": "python",
   "pygments_lexer": "ipython3",
   "version": "3.11.7"
  }
 },
 "nbformat": 4,
 "nbformat_minor": 5
}
